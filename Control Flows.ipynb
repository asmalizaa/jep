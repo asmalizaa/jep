{
 "cells": [
  {
   "cell_type": "markdown",
   "id": "8ec14588",
   "metadata": {},
   "source": [
    "# Control Flows\n",
    "\n",
    "Python provides a complete set of control-flow elements, with loops and conditionals.\n",
    "\n",
    "- while loop\n",
    "- for loop\n",
    "- if-elif-else statement\n",
    "- branching: break and continue\n",
    "- range() function"
   ]
  },
  {
   "cell_type": "code",
   "execution_count": null,
   "id": "fdf9a29d",
   "metadata": {},
   "outputs": [],
   "source": [
    "# list of string values\n",
    "fruits = [\"apple\", \"banana\", \"orange\"]"
   ]
  },
  {
   "cell_type": "code",
   "execution_count": null,
   "id": "52599f0e",
   "metadata": {},
   "outputs": [],
   "source": [
    "# using the while loop\n",
    "index = 0\n",
    "\n",
    "while(index < len(fruits)) :\n",
    "    print(fruits[index])\n",
    "    index += 1"
   ]
  },
  {
   "cell_type": "code",
   "execution_count": null,
   "id": "feb06053",
   "metadata": {},
   "outputs": [],
   "source": [
    "# using the for loop\n",
    "for f in fruits :\n",
    "    print(f)"
   ]
  },
  {
   "cell_type": "code",
   "execution_count": null,
   "id": "49111900",
   "metadata": {},
   "outputs": [],
   "source": [
    "# use isinstance() builtin to check variable's data type\n",
    "item_list = [3, \"string1\", 23, 14.0, \"string2\", 49, 64, 70]\n",
    "\n",
    "# for loop to iterate the list\n",
    "# for every value, check wether it's an integer or not\n",
    "for x in item_list :\n",
    "    # check for integer\n",
    "    if isinstance(x, int) :\n",
    "        print(\"{} is an integer\".format(x))\n",
    "    else :\n",
    "        print(\"{} is not an integer\".format(x))"
   ]
  },
  {
   "cell_type": "code",
   "execution_count": null,
   "id": "137ddc7b",
   "metadata": {},
   "outputs": [],
   "source": [
    "# branching statement\n",
    "# continue - skip current value and continue with next iteration\n",
    "# break - stop current loop\n",
    "\n",
    "for x in item_list :\n",
    "    # check for not an integer\n",
    "    if not isinstance(x, int) :\n",
    "        continue\n",
    "    else :\n",
    "        print(x)\n",
    "        # check for even number, if found then stop\n",
    "        if not x % 2 :\n",
    "            print(\"found even number {}\".format(x))\n",
    "            break"
   ]
  },
  {
   "cell_type": "code",
   "execution_count": null,
   "id": "89fe2bb2",
   "metadata": {},
   "outputs": [],
   "source": [
    "# use range() builtin to generate list of numbers and iterate\n",
    "for x in range(6) :\n",
    "    print(x)"
   ]
  },
  {
   "cell_type": "code",
   "execution_count": null,
   "id": "0fed0e9c",
   "metadata": {},
   "outputs": [],
   "source": [
    "# specify the start and stop for range()\n",
    "for x in range(2, 6) :\n",
    "    print(x)"
   ]
  },
  {
   "cell_type": "code",
   "execution_count": null,
   "id": "9b7480ea",
   "metadata": {},
   "outputs": [],
   "source": [
    "# generate list of numbers from 2-30 with step 3 (incremented by 3)\n",
    "for x in range(2, 30, 3) :\n",
    "    print(x)"
   ]
  },
  {
   "cell_type": "markdown",
   "id": "db57bfe9",
   "metadata": {},
   "source": [
    "**TRY THIS**\n",
    "\n",
    "1. Suppose that you have a list x = [1, 3, 5, 0, -1, 3, -2], and you need to remove all negative numbers from that list. Write the code to do this."
   ]
  },
  {
   "cell_type": "code",
   "execution_count": null,
   "id": "908ac36e",
   "metadata": {},
   "outputs": [],
   "source": []
  },
  {
   "cell_type": "markdown",
   "id": "03799959",
   "metadata": {},
   "source": [
    "2. How would you count the total number of negative numbers in a list y = [[1, -1, 0], [2, 5, -9], [-2, -3, 0]]?"
   ]
  },
  {
   "cell_type": "code",
   "execution_count": null,
   "id": "5213c739",
   "metadata": {},
   "outputs": [],
   "source": []
  },
  {
   "cell_type": "markdown",
   "id": "e8b58d44",
   "metadata": {},
   "source": [
    "3. What code would you use to print very low if the value of x is below -5, low if it’s from -5 up to 0, neutral if it’s equal to 0, high if it’s greater than 0 up to 5, and very high if it’s greater than 5?"
   ]
  },
  {
   "cell_type": "code",
   "execution_count": null,
   "id": "33641b47",
   "metadata": {},
   "outputs": [],
   "source": []
  }
 ],
 "metadata": {
  "kernelspec": {
   "display_name": "Python 3 (ipykernel)",
   "language": "python",
   "name": "python3"
  },
  "language_info": {
   "codemirror_mode": {
    "name": "ipython",
    "version": 3
   },
   "file_extension": ".py",
   "mimetype": "text/x-python",
   "name": "python",
   "nbconvert_exporter": "python",
   "pygments_lexer": "ipython3",
   "version": "3.9.7"
  }
 },
 "nbformat": 4,
 "nbformat_minor": 5
}
