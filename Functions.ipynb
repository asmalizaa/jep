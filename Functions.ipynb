{
 "cells": [
  {
   "cell_type": "markdown",
   "id": "6fe9e729",
   "metadata": {},
   "source": [
    "# Functions\n",
    "\n",
    "Although Python is considered as \"batteries included\" programming language, i.e. it has a very rich libraries - you can still create your own function to be used within your program."
   ]
  },
  {
   "cell_type": "code",
   "execution_count": null,
   "id": "188b7ff3",
   "metadata": {},
   "outputs": [],
   "source": [
    "# function that greets - simplest form of function i.e. takes no param and return nothing\n",
    "def greet() :\n",
    "    print(\"Hello everyone!\")"
   ]
  },
  {
   "cell_type": "code",
   "execution_count": null,
   "id": "25da92d9",
   "metadata": {},
   "outputs": [],
   "source": [
    "# invoke the function \n",
    "greet()"
   ]
  },
  {
   "cell_type": "code",
   "execution_count": null,
   "id": "96d30105",
   "metadata": {},
   "outputs": [],
   "source": [
    "# define function that takes 2 parameters and return a calculated value\n",
    "# update function to take additional param to indicate the operation to perform\n",
    "def calculate(x, y, op) :\n",
    "    # check what operation and return value\n",
    "    if op == \"+\" :\n",
    "        return x + y\n",
    "    elif op == \"-\" :\n",
    "        return x - y\n",
    "    elif op == \"*\" :\n",
    "        return x * y\n",
    "    elif op == \"/\" :\n",
    "        return x / y"
   ]
  },
  {
   "cell_type": "code",
   "execution_count": null,
   "id": "c5020070",
   "metadata": {},
   "outputs": [],
   "source": [
    "print(calculate(3, 5, \"*\"))\n",
    "print(calculate(3, 5, \"+\"))\n",
    "print(calculate(3, 5, \"-\"))\n",
    "print(calculate(3, 5, \"/\"))"
   ]
  },
  {
   "cell_type": "code",
   "execution_count": null,
   "id": "92477e0b",
   "metadata": {},
   "outputs": [],
   "source": [
    "# function with default parameter i.e. parameter with default value\n",
    "def greeting(user = \"Anon\", message = \"Good day\") :\n",
    "    print(\"{} {}\".format(message, user))"
   ]
  },
  {
   "cell_type": "code",
   "execution_count": null,
   "id": "b282d3c0",
   "metadata": {},
   "outputs": [],
   "source": [
    "greeting(\"John\", \"Hello\")\n",
    "greeting(\"Bob\")\n",
    "greeting()"
   ]
  },
  {
   "cell_type": "code",
   "execution_count": null,
   "id": "74c5411a",
   "metadata": {},
   "outputs": [],
   "source": [
    "# named parameters - allows you to overwrite the sequence of parameter list\n",
    "greeting(message=\"Good morning\", user=\"Sarah\")"
   ]
  },
  {
   "cell_type": "code",
   "execution_count": null,
   "id": "37aa7337",
   "metadata": {},
   "outputs": [],
   "source": [
    "# varargs - variable number of parameters\n",
    "def maximum(*numbers) :\n",
    "    # check if numbers is empty\n",
    "    if len(numbers) == 0 :\n",
    "        return None\n",
    "    else :\n",
    "        # find the maximum number in the list\n",
    "        maxnum = numbers[0]\n",
    "        for n in numbers[1:] :\n",
    "            if n > maxnum :\n",
    "                maxnum = n\n",
    "        return maxnum"
   ]
  },
  {
   "cell_type": "code",
   "execution_count": null,
   "id": "76f90c01",
   "metadata": {},
   "outputs": [],
   "source": [
    "print(maximum(2, 3, 5, 0, 8))\n",
    "print(maximum(1, -9, 9, 2, 33, 0, 7))\n",
    "print(maximum(2, 3))\n",
    "print(maximum(2))\n",
    "print(maximum())"
   ]
  },
  {
   "cell_type": "code",
   "execution_count": null,
   "id": "636b704d",
   "metadata": {},
   "outputs": [],
   "source": [
    "# ** indefinite number of arguments passed \n",
    "# **other : store parameters as dictionary (key-value)\n",
    "\n",
    "def example_fun(x, y, **other) :\n",
    "    # display parameter values\n",
    "    print(\"x: {0}, y: {1}, keys in 'other': {2}\".format(x,y,list(other.keys())))\n",
    "    other_total = 0\n",
    "\n",
    "    # loop and calculate total\n",
    "    for k in other.keys():\n",
    "        other_total = other_total + other[k]\n",
    "    print(\"The total of values in 'other' is {0}\".format(other_total))"
   ]
  },
  {
   "cell_type": "code",
   "execution_count": null,
   "id": "6f4f3c0e",
   "metadata": {},
   "outputs": [],
   "source": [
    "# call function\n",
    "example_fun(2, 5)\n",
    "example_fun(2, 5, foo=3, bar=8)\n",
    "example_fun(2, 5, foo=3, bar=8, baz=9)"
   ]
  },
  {
   "cell_type": "code",
   "execution_count": null,
   "id": "192be818",
   "metadata": {},
   "outputs": [],
   "source": [
    "# mutable objects as parameters\n",
    "def updatedata(n, list1, list2) :\n",
    "    # modify lists and n\n",
    "    list1.append(3)\n",
    "    list2 = [4, 5, 6, 7]\n",
    "    n = n + 1\n",
    "\n",
    "    # return the n and list2\n",
    "    return n, list2"
   ]
  },
  {
   "cell_type": "code",
   "execution_count": null,
   "id": "a8b75910",
   "metadata": {},
   "outputs": [],
   "source": [
    "x = 5\n",
    "y = [1, 2]\n",
    "z = [4, 5]\n",
    "\n",
    "print(\"Before: {} {} {}\".format(x, y, z))\n",
    "x, z = updatedata(x, y, z)\n",
    "print(\"After: {} {} {}\".format(x, y, z))"
   ]
  },
  {
   "cell_type": "code",
   "execution_count": null,
   "id": "77c1a2b8",
   "metadata": {},
   "outputs": [],
   "source": [
    "# define functions to convert temperatures\n",
    "def f_to_kelvin(degrees_f) :\n",
    "    return 273.15 + (degrees_f - 32) * 5 / 9\n",
    "\n",
    "def c_to_kelvin(degrees_c) :\n",
    "    return 273.15 + degrees_c"
   ]
  },
  {
   "cell_type": "code",
   "execution_count": null,
   "id": "ffb5b69a",
   "metadata": {},
   "outputs": [],
   "source": [
    "# assign function name to a variable\n",
    "abs_temperature = f_to_kelvin\n",
    "\n",
    "# call function to convert temp\n",
    "print(abs_temperature(32))\n",
    "\n",
    "# assign another function to variable\n",
    "abs_temperature = c_to_kelvin\n",
    "\n",
    "print(abs_temperature(32))"
   ]
  },
  {
   "cell_type": "code",
   "execution_count": null,
   "id": "7dfaadac",
   "metadata": {},
   "outputs": [],
   "source": [
    "# add/place function references in a list, tuple, dictionary\n",
    "tfun = {\n",
    "    'FtoK' : f_to_kelvin,\n",
    "    'CtoK' : c_to_kelvin\n",
    "}\n",
    "\n",
    "# call the function from dictionary\n",
    "print(tfun['FtoK'](32))\n",
    "print(tfun['CtoK'](32))"
   ]
  },
  {
   "cell_type": "code",
   "execution_count": null,
   "id": "2fc4bd00",
   "metadata": {},
   "outputs": [],
   "source": [
    "# define function and add it to dictionary at the same time\n",
    "# lambda expression - expression/syntax use to define anon function inline\n",
    "# syntax:\n",
    "#   lambda param : operation\n",
    "\n",
    "tfunctions = {\n",
    "    'FtoK' : lambda degrees_f : 273.15 + (degrees_f - 32) * 5 / 9,\n",
    "    'CtoK' : lambda degrees_c : 273.15 + degrees_c\n",
    "}\n",
    "print(tfunctions['FtoK'](32))\n",
    "print(tfunctions['CtoK'](32))"
   ]
  },
  {
   "cell_type": "markdown",
   "id": "af4bf1cf",
   "metadata": {},
   "source": [
    "**TRY THIS**\n",
    "\n",
    "Define a function that will return a factorial of a given number.\n",
    "\n",
    "factorial, in mathematics, the product of all positive integers less than or equal to a given positive integer and denoted by that integer and an exclamation point. Thus, factorial seven is written 7!, meaning 1 × 2 × 3 × 4 × 5 × 6 × 7. Factorial zero is defined as equal to 1."
   ]
  },
  {
   "cell_type": "code",
   "execution_count": null,
   "id": "7d1006a3",
   "metadata": {},
   "outputs": [],
   "source": []
  }
 ],
 "metadata": {
  "kernelspec": {
   "display_name": "Python 3 (ipykernel)",
   "language": "python",
   "name": "python3"
  },
  "language_info": {
   "codemirror_mode": {
    "name": "ipython",
    "version": 3
   },
   "file_extension": ".py",
   "mimetype": "text/x-python",
   "name": "python",
   "nbconvert_exporter": "python",
   "pygments_lexer": "ipython3",
   "version": "3.9.7"
  }
 },
 "nbformat": 4,
 "nbformat_minor": 5
}
