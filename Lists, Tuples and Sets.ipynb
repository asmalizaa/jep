{
 "cells": [
  {
   "cell_type": "markdown",
   "id": "e7b47e91",
   "metadata": {},
   "source": [
    "# Lists, Tuples and Sets\n",
    "\n",
    "## LISTS\n",
    "\n",
    "A list in Python is much the same thing as an array in Java or C or any other programming language; it's an **ordered collection of objects**. Create a list by enclosing a comma-separated list of elements (values) in a pair of **square brackets**."
   ]
  },
  {
   "cell_type": "code",
   "execution_count": null,
   "id": "c5a7fddb",
   "metadata": {},
   "outputs": [],
   "source": [
    "# a simple list of numbers\n",
    "data = [1, 2, 3, 4, 5, 6, 7, 8, 9, 10]\n",
    "\n",
    "print(data)"
   ]
  },
  {
   "cell_type": "code",
   "execution_count": null,
   "id": "7293bb66",
   "metadata": {},
   "outputs": [],
   "source": [
    "# access value in list\n",
    "print(data[4])\n",
    "print(data[5])"
   ]
  },
  {
   "cell_type": "code",
   "execution_count": null,
   "id": "e291e222",
   "metadata": {},
   "outputs": [],
   "source": [
    "# list is mutable, means it can be modified\n",
    "# update value in list\n",
    "data[1] = 20\n",
    "print(data)\n",
    "\n",
    "# data[4] = \"four\"\n",
    "# print(data)\n",
    "\n",
    "# # add another list into data\n",
    "# data[5] = [\"a\", \"b\", \"c\"]\n",
    "# print(data)"
   ]
  },
  {
   "cell_type": "code",
   "execution_count": null,
   "id": "1ca1138a",
   "metadata": {},
   "outputs": [],
   "source": [
    "# access value in list\n",
    "print(data[4])\n",
    "print(data[5])\n",
    "print(data[5][0])"
   ]
  },
  {
   "cell_type": "code",
   "execution_count": null,
   "id": "8be2598e",
   "metadata": {},
   "outputs": [],
   "source": [
    "# get the size/length of data\n",
    "print(len(data))"
   ]
  },
  {
   "cell_type": "code",
   "execution_count": null,
   "id": "4eb2ab52",
   "metadata": {},
   "outputs": [],
   "source": [
    "new_data = [100, 200, 300]\n",
    "\n",
    "# add new_data at the end of the list\n",
    "data[int(len(data)) : ] = new_data\n",
    "print(data)\n",
    "print(len(data))"
   ]
  },
  {
   "cell_type": "code",
   "execution_count": null,
   "id": "63323d1b",
   "metadata": {},
   "outputs": [],
   "source": [
    "# add new_data at the front of the list\n",
    "data[:0] = new_data\n",
    "print(data)\n",
    "print(len(data))"
   ]
  },
  {
   "cell_type": "code",
   "execution_count": null,
   "id": "1e516ceb",
   "metadata": {},
   "outputs": [],
   "source": [
    "# remove the last 3 values from list using slicing\n",
    "data[-3:] = []\n",
    "print(data)\n",
    "print(len(data))"
   ]
  },
  {
   "cell_type": "markdown",
   "id": "c60040a5",
   "metadata": {},
   "source": [
    "**TRY THIS**\n",
    "\n",
    "Using what you know about the len() function and list slices, how would you combine the two to get the second half of a list when you don't know what size it is? Experiment in the python shell to confirm that your solution works."
   ]
  },
  {
   "cell_type": "code",
   "execution_count": null,
   "id": "b17e9e5a",
   "metadata": {},
   "outputs": [],
   "source": []
  },
  {
   "cell_type": "markdown",
   "id": "e05735ee",
   "metadata": {},
   "source": [
    "### Append, extend, insert, delete"
   ]
  },
  {
   "cell_type": "code",
   "execution_count": null,
   "id": "38cf6cd3",
   "metadata": {},
   "outputs": [],
   "source": [
    "x = [1, 2, 3, 4]\n",
    "y = [5, 6, 7]\n",
    "\n",
    "print(x)\n",
    "print(y)"
   ]
  },
  {
   "cell_type": "code",
   "execution_count": null,
   "id": "4401045d",
   "metadata": {},
   "outputs": [],
   "source": [
    "x.append(y)\n",
    "print(x)\n",
    "print(y)"
   ]
  },
  {
   "cell_type": "code",
   "execution_count": null,
   "id": "cec77efe",
   "metadata": {},
   "outputs": [],
   "source": [
    "x.extend(y)\n",
    "print(x)\n",
    "print(y)"
   ]
  },
  {
   "cell_type": "code",
   "execution_count": null,
   "id": "81990c00",
   "metadata": {},
   "outputs": [],
   "source": [
    "# insert - add value/item at a specific location within list, list size will increase\n",
    "print(len(x))\n",
    "\n",
    "x.insert(2, \"hello\")\n",
    "\n",
    "print(x)\n",
    "print(len(x))"
   ]
  },
  {
   "cell_type": "code",
   "execution_count": null,
   "id": "aa18b91c",
   "metadata": {},
   "outputs": [],
   "source": [
    "# delete value from list\n",
    "del x[1]\n",
    "print(x)\n",
    "\n",
    "x.remove(3)  # remove first occurence of value 3 from the list\n",
    "print(x)"
   ]
  },
  {
   "cell_type": "code",
   "execution_count": null,
   "id": "92ef0984",
   "metadata": {},
   "outputs": [],
   "source": [
    "x.remove(4) # remove first occurence of value 4 from the list\n",
    "print(x)"
   ]
  },
  {
   "cell_type": "code",
   "execution_count": null,
   "id": "dd8d6895",
   "metadata": {},
   "outputs": [],
   "source": [
    "numbers = [1, 1, 2, 3, 4, 5, 6, 7, 7, 8, 2]\n",
    "print(numbers)\n",
    "numbers.remove(7)\n",
    "print(numbers)\n",
    "\n",
    "# if you want to quickly remove duplicates - just assign to a set\n",
    "numbers_set = set(numbers)\n",
    "print(numbers_set)"
   ]
  },
  {
   "cell_type": "code",
   "execution_count": null,
   "id": "08343d1c",
   "metadata": {},
   "outputs": [],
   "source": [
    "# reverse the list\n",
    "x.reverse()\n",
    "print(x)\n",
    "\n",
    "numbers.reverse()\n",
    "print(numbers)"
   ]
  },
  {
   "cell_type": "markdown",
   "id": "c2190987",
   "metadata": {},
   "source": [
    "**TRY THIS**\n",
    "\n",
    "Suppose that you have a list 10 items long. How might you move the last three items from the end of the list to the beginning, keeping them in the same order?"
   ]
  },
  {
   "cell_type": "code",
   "execution_count": null,
   "id": "90661455",
   "metadata": {},
   "outputs": [],
   "source": []
  },
  {
   "cell_type": "markdown",
   "id": "e72a9869",
   "metadata": {},
   "source": [
    "### Sort"
   ]
  },
  {
   "cell_type": "code",
   "execution_count": null,
   "id": "ce16b3b3",
   "metadata": {},
   "outputs": [],
   "source": [
    "# built-in sort() - in-place sorting (i.e. modify the original list)\n",
    "data = [3, 8, 5, 2, 0, 1, 6]\n",
    "print(\"Before:\", data)\n",
    "\n",
    "data.sort()\n",
    "print(\"After:\", data)"
   ]
  },
  {
   "cell_type": "code",
   "execution_count": null,
   "id": "f66ac2b2",
   "metadata": {},
   "outputs": [],
   "source": [
    "# 1. make a copy and then sort\n",
    "data = [3, 8, 5, 2, 0, 1, 6]\n",
    "copy_data = data[:]\n",
    "print(data, \":\", copy_data)\n",
    "\n",
    "# sort the copy_data\n",
    "# copy_data.sort()\n",
    "# print(\"copy_data:\", copy_data)\n",
    "# print(\"data:\", data)"
   ]
  },
  {
   "cell_type": "code",
   "execution_count": null,
   "id": "1a95f58b",
   "metadata": {},
   "outputs": [],
   "source": [
    "# 2. use sorted() - will not do in-place sorting, return a sorted list instead\n",
    "data = [3, 8, 5, 2, 0, 1, 6]\n",
    "sorted_data = sorted(data)\n",
    "print(data, \":\", sorted_data)\n",
    "\n",
    "# reverse sort\n",
    "# reversed_data = sorted(sorted_data, reverse=True)\n",
    "# print(reversed_data)\n",
    "\n",
    "# perform sort and reverse on the same line\n",
    "# result = sorted(sorted(data), reverse=True)\n",
    "# print(result)"
   ]
  },
  {
   "cell_type": "code",
   "execution_count": null,
   "id": "409192ff",
   "metadata": {},
   "outputs": [],
   "source": [
    "# list of string values\n",
    "names = [\"John\", \"Adam\", \"Sarah\", \"Winona\"]\n",
    "print(\"Before:\", names)\n",
    "\n",
    "# names.sort()\n",
    "# print(\"After:\", names)\n",
    "\n",
    "# names.reverse()\n",
    "# print(\"Reversed:\", names)"
   ]
  },
  {
   "cell_type": "code",
   "execution_count": null,
   "id": "6ff0d696",
   "metadata": {},
   "outputs": [],
   "source": [
    "# alternatively\n",
    "names = [\"John\", \"Adam\", \"Sarah\", \"Winona\"]\n",
    "\n",
    "# sorted_names = sorted(names)\n",
    "# print(sorted_names, \":\", names)\n",
    "\n",
    "# reversed_names = sorted(sorted_names, reverse=True)\n",
    "# print(reversed_names)"
   ]
  },
  {
   "cell_type": "code",
   "execution_count": null,
   "id": "4e020445",
   "metadata": {},
   "outputs": [],
   "source": [
    "# list of list\n",
    "data = [[3,5], [2,9], [2,3], [4,1], [3,2], [4, 0]]\n",
    "print(\"Before:\", data)\n",
    "\n",
    "data.sort()\n",
    "print(\"After:\", data)"
   ]
  },
  {
   "cell_type": "markdown",
   "id": "cc10aabc",
   "metadata": {},
   "source": [
    "**TRY THIS**\n",
    "\n",
    "Suppose that you have a list in which each element is in turn a list: [[1, 2, 3], [2, 1, 3], [4, 0, 1]]. If you want to sort this list by the second element in each list, so that the result is [[4, 0, 1], [2, 1, 3], [1, 2, 3]], what function would you write to pass as the key value to the sort() method?"
   ]
  },
  {
   "cell_type": "markdown",
   "id": "c480ebde",
   "metadata": {},
   "source": [
    "## TUPLES\n",
    "\n",
    "Tuples are data structures that are very similar to lists, but they can't be modified; they can only be created i.e. immutable. Creating a tuple is similar to creating a list: assign a sequence of values to a variable, enclosed by a pair of **bracket**. "
   ]
  },
  {
   "cell_type": "code",
   "execution_count": null,
   "id": "852984c7",
   "metadata": {},
   "outputs": [],
   "source": [
    "# a simple tuple\n",
    "x = ('a', 'b', 'c')\n",
    "\n",
    "print(x)"
   ]
  },
  {
   "cell_type": "code",
   "execution_count": null,
   "id": "a116f2f0",
   "metadata": {},
   "outputs": [],
   "source": [
    "# access value in tuple using index\n",
    "print(x[0])"
   ]
  },
  {
   "cell_type": "code",
   "execution_count": null,
   "id": "657f621c",
   "metadata": {},
   "outputs": [],
   "source": [
    "# get the size of tuple\n",
    "print(len(x))"
   ]
  },
  {
   "cell_type": "code",
   "execution_count": null,
   "id": "ae62b82f",
   "metadata": {},
   "outputs": [],
   "source": [
    "# using built-in function to check value\n",
    "print('a' in x)\n",
    "print(5 not in x)"
   ]
  },
  {
   "cell_type": "code",
   "execution_count": null,
   "id": "e8f461f3",
   "metadata": {},
   "outputs": [],
   "source": [
    "# packing and unpacking typles\n",
    "(one, two, three) = x\n",
    "\n",
    "print(one)\n",
    "print(two)\n",
    "print(three)"
   ]
  },
  {
   "cell_type": "code",
   "execution_count": null,
   "id": "54906278",
   "metadata": {},
   "outputs": [],
   "source": [
    "# another example\n",
    "one, two, three, four = 1, 2, 3, 4\n",
    "\n",
    "print(one)\n",
    "print(two)\n",
    "print(three)\n",
    "print(four)"
   ]
  },
  {
   "cell_type": "code",
   "execution_count": null,
   "id": "c374c6d0",
   "metadata": {},
   "outputs": [],
   "source": [
    "# converting between lists and tuples\n",
    "x_list = list(x)\n",
    "print(x_list)\n",
    "\n",
    "x_tup = tuple(x_list)\n",
    "print(x_tup)"
   ]
  },
  {
   "cell_type": "markdown",
   "id": "5767281f",
   "metadata": {},
   "source": [
    "## SETS\n",
    "\n",
    "A set in Python is an unordered collection of objects used when **uniqueness** in the set is the main preference."
   ]
  },
  {
   "cell_type": "code",
   "execution_count": null,
   "id": "bd4d5393",
   "metadata": {},
   "outputs": [],
   "source": [
    "# create a simple set from list of numbers\n",
    "x = set([1, 2, 3, 1, 2, 3, 4, 5, 6, 7])\n",
    "print(x)\n",
    "\n",
    "y = set([1, 7, 8, 9])\n",
    "print(y)"
   ]
  },
  {
   "cell_type": "code",
   "execution_count": null,
   "id": "4870806e",
   "metadata": {},
   "outputs": [],
   "source": [
    "# add to set\n",
    "x.add(10)\n",
    "print(x)"
   ]
  },
  {
   "cell_type": "code",
   "execution_count": null,
   "id": "5fb65b53",
   "metadata": {},
   "outputs": [],
   "source": [
    "# remove from set\n",
    "x.remove(6)\n",
    "print(x)"
   ]
  },
  {
   "cell_type": "code",
   "execution_count": null,
   "id": "fb336f0e",
   "metadata": {},
   "outputs": [],
   "source": [
    "# check value in set\n",
    "print(1 in x)\n",
    "print(6 in x)"
   ]
  },
  {
   "cell_type": "code",
   "execution_count": null,
   "id": "96c1b3d6",
   "metadata": {},
   "outputs": [],
   "source": [
    "# logical operator - or, and, not\n",
    "print(x | y)\n",
    "print(x & y)\n",
    "print(x ^ y)"
   ]
  },
  {
   "cell_type": "markdown",
   "id": "0b12a7a2",
   "metadata": {},
   "source": [
    "**TRY THIS**\n",
    "\n",
    "If you were to construct a set from the following list, how many elements would it have?: [1, 2, 5, 1, 0, 2, 3, 1, 1, (1, 2,3)]"
   ]
  },
  {
   "cell_type": "code",
   "execution_count": null,
   "id": "eddd799b",
   "metadata": {},
   "outputs": [],
   "source": []
  },
  {
   "cell_type": "markdown",
   "id": "1b34363e",
   "metadata": {},
   "source": [
    "## LAB\n",
    "\n",
    "In this lab, the task is to read a set of temperature data (the monthly high temperatures at Heathrow Airport for 1948 through 2016) from a file and then find some basic information: the highest and lowest temperatures, the mean (average) temperature, and the median temperature (the temperature in the middle if all the temperatures are sorted).\n",
    "\n",
    "The temperature data is in the heathrow_temp.txt in the data folder.\n",
    "\n",
    "The codes to read the file into a list has been provided below. Complete the program with your own solutions."
   ]
  },
  {
   "cell_type": "code",
   "execution_count": 85,
   "id": "af159feb",
   "metadata": {},
   "outputs": [],
   "source": [
    "# creating an empty list\n",
    "temperatures = []\n",
    "\n",
    "# open file for reading\n",
    "with open('data\\heathrow_temp.txt') as infile :\n",
    "    # start reading file line-by-line\n",
    "    for row in infile :\n",
    "        # add every line into temperature list\n",
    "        temperatures.append(float(row.strip()))\n",
    "\n",
    "# find the highest, lowest, average and median temperature\n",
    "\n",
    "# display results"
   ]
  }
 ],
 "metadata": {
  "kernelspec": {
   "display_name": "Python 3 (ipykernel)",
   "language": "python",
   "name": "python3"
  },
  "language_info": {
   "codemirror_mode": {
    "name": "ipython",
    "version": 3
   },
   "file_extension": ".py",
   "mimetype": "text/x-python",
   "name": "python",
   "nbconvert_exporter": "python",
   "pygments_lexer": "ipython3",
   "version": "3.9.7"
  }
 },
 "nbformat": 4,
 "nbformat_minor": 5
}
