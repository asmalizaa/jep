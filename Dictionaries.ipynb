{
 "cells": [
  {
   "cell_type": "markdown",
   "id": "0b3faa39",
   "metadata": {},
   "source": [
    "# Dictionaries\n",
    "\n",
    "Dictionary is Python's name for associative arrays or maps. \n",
    "\n",
    "**List vs Dictionary**\n",
    "\n",
    "- Values in lists are accessed using integer **indices**.\n",
    "- Values in dictionaries are accessed using either integer, strings or other Python objects called **keys**.\n",
    "- Values stored in a list are implicitly ordered, but values stored in dictionary are not implicitly ordered."
   ]
  },
  {
   "cell_type": "code",
   "execution_count": null,
   "id": "c7b3907e",
   "metadata": {},
   "outputs": [],
   "source": [
    "# simple dictionary\n",
    "x = {1:\"one\", 2:\"two\"}\n",
    "print(x)"
   ]
  },
  {
   "cell_type": "code",
   "execution_count": null,
   "id": "407b8499",
   "metadata": {},
   "outputs": [],
   "source": [
    "# access a value using the key\n",
    "print(x[1])"
   ]
  },
  {
   "cell_type": "code",
   "execution_count": null,
   "id": "ade3c8de",
   "metadata": {},
   "outputs": [],
   "source": [
    "# update value in dictionary\n",
    "x[1] = \"ten\"\n",
    "print(x)"
   ]
  },
  {
   "cell_type": "code",
   "execution_count": null,
   "id": "51d9aecb",
   "metadata": {},
   "outputs": [],
   "source": [
    "# add new pair to dictionary\n",
    "x[3] = \"ten\"\n",
    "print(x)"
   ]
  },
  {
   "cell_type": "code",
   "execution_count": null,
   "id": "2a678b69",
   "metadata": {},
   "outputs": [],
   "source": [
    "# create an empty dictionary\n",
    "english_to_french = {}\n",
    "\n",
    "# add pairs to dictionary\n",
    "english_to_french['red'] = 'rouge'\n",
    "english_to_french['blue'] = 'bleu'\n",
    "english_to_french['green'] = 'vert'\n",
    "\n",
    "# access the value and display\n",
    "print(\"red is\", english_to_french['red'])"
   ]
  },
  {
   "cell_type": "code",
   "execution_count": null,
   "id": "d6658fc7",
   "metadata": {},
   "outputs": [],
   "source": [
    "# get all keys\n",
    "thekeys = list(english_to_french.keys())\n",
    "print(thekeys)"
   ]
  },
  {
   "cell_type": "code",
   "execution_count": null,
   "id": "e1e1e89b",
   "metadata": {},
   "outputs": [],
   "source": [
    "# get all values\n",
    "thevalues = list(english_to_french.values())\n",
    "print(thevalues)"
   ]
  },
  {
   "cell_type": "code",
   "execution_count": null,
   "id": "2bc62ad2",
   "metadata": {},
   "outputs": [],
   "source": [
    "# get all pairs\n",
    "thepairs = list(english_to_french.items())\n",
    "print(thepairs)\n",
    "print(thepairs[0])"
   ]
  },
  {
   "cell_type": "code",
   "execution_count": null,
   "id": "b5a6311f",
   "metadata": {},
   "outputs": [],
   "source": [
    "# check if key is existed in a dictionary\n",
    "print('red' in english_to_french)\n",
    "print('red' in thekeys)"
   ]
  },
  {
   "cell_type": "code",
   "execution_count": null,
   "id": "e260d6d7",
   "metadata": {},
   "outputs": [],
   "source": [
    "# use get() to read value from dictionary\n",
    "print(english_to_french.get('blue'))\n",
    "print(english_to_french['blue'])"
   ]
  },
  {
   "cell_type": "code",
   "execution_count": null,
   "id": "ed565f24",
   "metadata": {},
   "outputs": [],
   "source": [
    "# create a copy\n",
    "copy_dict = english_to_french.copy()\n",
    "print(copy_dict, \":\", english_to_french)"
   ]
  },
  {
   "cell_type": "code",
   "execution_count": null,
   "id": "03333275",
   "metadata": {},
   "outputs": [],
   "source": [
    "# delete by key (check if key existed)\n",
    "if 'red' in english_to_french :\n",
    "    del(english_to_french['red'])\n",
    "    print(\"deleted\")\n",
    "\n",
    "print(english_to_french.get('red', 'not found'))"
   ]
  },
  {
   "cell_type": "markdown",
   "id": "7dcfe6e6",
   "metadata": {},
   "source": [
    "**TRY THIS**\n",
    "\n",
    "Assume that you have a dictionary x ={'a':1, 'b':2, 'c':3, 'd':4} and a dictionary y = {'a':6, 'e':5, 'f':6}. What would be the contents of x after the following snippets of code have executed?"
   ]
  },
  {
   "cell_type": "code",
   "execution_count": null,
   "id": "09df28a6",
   "metadata": {},
   "outputs": [],
   "source": []
  },
  {
   "cell_type": "markdown",
   "id": "068323c6",
   "metadata": {},
   "source": [
    "### Word Counting"
   ]
  },
  {
   "cell_type": "code",
   "execution_count": null,
   "id": "3bf01aae",
   "metadata": {},
   "outputs": [],
   "source": [
    "# word counting\n",
    "sample_string = \"To be or not to be\"\n",
    "\n",
    "occurences = {}\n",
    "\n",
    "for word in sample_string.split() :\n",
    "    occurences[word] = occurences.get(word, 0) + 1\n",
    "\n",
    "for word in occurences :\n",
    "    print(\"The word\", word, \"occurs\", occurences[word], \"times in the string\")"
   ]
  },
  {
   "cell_type": "markdown",
   "id": "8bb946d7",
   "metadata": {},
   "source": [
    "## LAB 1\n",
    "\n",
    "In processing raw text, it's quite necessary to clean and normalize the text before doing anything else. If you want to find the frequency of words in text, for example, you can make the job easier if, before you start counting, you make sure that everything is lowercase (or uppercase, if you prefer) and that all punctuation has been removed. You can also make things easier by breaking the text into series of words.\n",
    "\n",
    "In this lab, the task is to read the first part of the first chapter of *Moby Dick* (data\\moby.txt), make sure that everything is one case, remove all punctuations, and write the words one per line to a second file.\n",
    "\n",
    "Code to open the files (read/write) are already provided here. Complete the program with your own solutions."
   ]
  },
  {
   "cell_type": "code",
   "execution_count": null,
   "id": "795664bd",
   "metadata": {},
   "outputs": [],
   "source": [
    "# input: data\\moby.txt\n",
    "# output: data\\moby_clean.txt\n",
    "\n",
    "with open('data\\moby.txt') as infile, open('data\\moby_clean.txt', 'w') as outfile :\n",
    "    # start reading input file\n",
    "    for line in infile :\n",
    "        # make all one case\n",
    "        \n",
    "        # remove punctuations\n",
    "        \n",
    "        # split into words\n",
    "        \n",
    "        # write all words for line\n",
    "        outfile.write(cleaned_words)"
   ]
  },
  {
   "cell_type": "markdown",
   "id": "77cfcce3",
   "metadata": {},
   "source": [
    "## LAB 2\n",
    "\n",
    "In the previous lab, you took the text of the first chapter of *Moby Dick*, normalized the case, removed punctuation, and wrote the separated words to a file. In this lab, you read that file, use a dictionary to count the number of times each word occurs, and then report the most common and least common words."
   ]
  },
  {
   "cell_type": "code",
   "execution_count": null,
   "id": "c474fe2b",
   "metadata": {},
   "outputs": [],
   "source": []
  }
 ],
 "metadata": {
  "kernelspec": {
   "display_name": "Python 3 (ipykernel)",
   "language": "python",
   "name": "python3"
  },
  "language_info": {
   "codemirror_mode": {
    "name": "ipython",
    "version": 3
   },
   "file_extension": ".py",
   "mimetype": "text/x-python",
   "name": "python",
   "nbconvert_exporter": "python",
   "pygments_lexer": "ipython3",
   "version": "3.9.7"
  }
 },
 "nbformat": 4,
 "nbformat_minor": 5
}
