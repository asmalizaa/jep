{
 "cells": [
  {
   "cell_type": "markdown",
   "id": "c4a6ce3d",
   "metadata": {},
   "source": [
    "# Quick Python Overview\n",
    "\n",
    "Python has several built-in data types, such as integers, floats, complex numbers, strings, lists, tuples, dictionaries, and file objects. These data types can be manipulated using language operators, built-in functions, library functions, or a data type's own methods.\n",
    "\n",
    "Programmers can also define their own classes and instantiate their own class instances. These class instances can be manipulated by programmer-defined methods, as well as the language operators and built-in functions for which the programmer has defined the appropriate special method attributes.\n",
    "\n",
    "Python provides conditional and iterative control flow through an *if-elif-else* construct along with *while* and *for* loops. It allows function definition with flexible argument-passing options. Exceptions (errors) can be raised by using the *rais* statement, and they can be caught and handled by using the *try-except-else-finally* construct.\n",
    "\n",
    "Variables (or identifiers) don't have to be declared and can refer to any built-in data type, user-defined object, function, or module."
   ]
  },
  {
   "cell_type": "markdown",
   "id": "16bb9e12",
   "metadata": {},
   "source": [
    "## Numbers\n",
    "\n",
    "- Integers: 1, -3, 42, 355 (integers aren't limited in size except by available memory)\n",
    "- Floats: 3.0, 21e12, -6e-4\n",
    "- Complex numbers: 3+2j, -4-2j, 4.2-6.3j\n",
    "- Booleans: True, False"
   ]
  },
  {
   "cell_type": "code",
   "execution_count": null,
   "id": "3f524d29",
   "metadata": {},
   "outputs": [],
   "source": [
    "# this is a comment\n",
    "# define a variable called age and assign a number\n",
    "age = 17"
   ]
  },
  {
   "cell_type": "code",
   "execution_count": null,
   "id": "91651e6e",
   "metadata": {},
   "outputs": [],
   "source": [
    "# display age to output\n",
    "print(age)"
   ]
  },
  {
   "cell_type": "code",
   "execution_count": null,
   "id": "841269e1",
   "metadata": {},
   "outputs": [],
   "source": [
    "# format output using concatenation\n",
    "print(\"Age: \" + str(age))"
   ]
  },
  {
   "cell_type": "code",
   "execution_count": null,
   "id": "d7e9475c",
   "metadata": {},
   "outputs": [],
   "source": [
    "# another way to concatenate output\n",
    "print(\"Age:\", str(age))"
   ]
  },
  {
   "cell_type": "code",
   "execution_count": null,
   "id": "88f38ba4",
   "metadata": {},
   "outputs": [],
   "source": [
    "# use built-in function to check type\n",
    "type(age)"
   ]
  },
  {
   "cell_type": "code",
   "execution_count": null,
   "id": "e09db4b5",
   "metadata": {},
   "outputs": [],
   "source": [
    "# define another variables to store a float and boolean\n",
    "unit_price = 29.99\n",
    "available = True"
   ]
  },
  {
   "cell_type": "code",
   "execution_count": null,
   "id": "74370394",
   "metadata": {},
   "outputs": [],
   "source": [
    "# display to output\n",
    "print(\"Unit price: \" + str(unit_price) + \", Available: \" + str(available))"
   ]
  },
  {
   "cell_type": "code",
   "execution_count": null,
   "id": "38953304",
   "metadata": {},
   "outputs": [],
   "source": [
    "# use string format\n",
    "print(\"Unit price: {}, Availabe: {}\".format(unit_price, available))"
   ]
  },
  {
   "cell_type": "code",
   "execution_count": null,
   "id": "6d4d4625",
   "metadata": {},
   "outputs": [],
   "source": [
    "# format with %\n",
    "print(\"Unit price: %s, Available: %s\" % (unit_price, available))"
   ]
  },
  {
   "cell_type": "markdown",
   "id": "13881384",
   "metadata": {},
   "source": [
    "### Numbers operations\n",
    "\n",
    "You can manipulate numbers in python using the arithmetic operators: + (addition), - (subtraction), * (multiplication), / (division), ** (exponentiation), and % (modulus)."
   ]
  },
  {
   "cell_type": "code",
   "execution_count": null,
   "id": "681fc41c",
   "metadata": {},
   "outputs": [],
   "source": [
    "# run this cell\n",
    "x = 5 + 2 - 3 * 2\n",
    "print(x)"
   ]
  },
  {
   "cell_type": "code",
   "execution_count": null,
   "id": "ad4a32ff",
   "metadata": {},
   "outputs": [],
   "source": [
    "# division - return a float\n",
    "5 / 2"
   ]
  },
  {
   "cell_type": "code",
   "execution_count": null,
   "id": "bce259aa",
   "metadata": {},
   "outputs": [],
   "source": [
    "# division - return an integer (truncation)\n",
    "5 // 2"
   ]
  },
  {
   "cell_type": "code",
   "execution_count": null,
   "id": "0d654953",
   "metadata": {},
   "outputs": [],
   "source": [
    "# modulus\n",
    "5 % 2"
   ]
  },
  {
   "cell_type": "code",
   "execution_count": null,
   "id": "8bfc847e",
   "metadata": {},
   "outputs": [],
   "source": [
    "# exponentiation\n",
    "2 ** 8"
   ]
  },
  {
   "cell_type": "code",
   "execution_count": null,
   "id": "605dcfa9",
   "metadata": {},
   "outputs": [],
   "source": [
    "# large numbers - integers are unlimited size\n",
    "1000000001 ** 3"
   ]
  },
  {
   "cell_type": "code",
   "execution_count": null,
   "id": "0b4c8429",
   "metadata": {},
   "outputs": [],
   "source": [
    "# complex numbers\n",
    "x = (3+2j) ** (2+3j)\n",
    "\n",
    "print(x)\n",
    "print(x.real)\n",
    "print(x.imag)"
   ]
  },
  {
   "cell_type": "markdown",
   "id": "333862bb",
   "metadata": {},
   "source": [
    "### Numbers built-in functions\n",
    "\n",
    "Python provides a collections of builtin functions. Please check the documentation [here](https://docs.python.org/3/library/functions.html)."
   ]
  },
  {
   "cell_type": "code",
   "execution_count": null,
   "id": "98979082",
   "metadata": {},
   "outputs": [],
   "source": [
    "# convert to integer\n",
    "int(200.22)"
   ]
  },
  {
   "cell_type": "code",
   "execution_count": null,
   "id": "0df997af",
   "metadata": {},
   "outputs": [],
   "source": [
    "# convert to float\n",
    "float(200)"
   ]
  },
  {
   "cell_type": "code",
   "execution_count": null,
   "id": "12eb03b0",
   "metadata": {},
   "outputs": [],
   "source": [
    "# round number\n",
    "round(3.49)"
   ]
  },
  {
   "cell_type": "markdown",
   "id": "d3547e33",
   "metadata": {},
   "source": [
    "## Strings\n",
    "\n",
    "String processing is one of Python's strengths.\n",
    "\n",
    "Strings can be delimited by single (' '), double (\" \"), triple single (''' '''), or triple double (\"\"\" \"\"\") quotations and can contain tab (\\t) and newline (\\n) characters.\n",
    "\n",
    "Strings in Python are immutable. The operators and functions that work with them return a new strings every time."
   ]
  },
  {
   "cell_type": "code",
   "execution_count": null,
   "id": "dcfe0a61",
   "metadata": {},
   "outputs": [],
   "source": [
    "str1 = 'A string in single quotes can contain \"double quote\" characters.'\n",
    "str2 = \"A string in double quotes can contain 'single quote' characters.\"\n",
    "str3 = '''\\tA string which starts with a tab; ends with a newline character.\\n'''\n",
    "str4 = \"\"\"This is a triple double quoted string, the only kind that can\n",
    "contain real newlines.\"\"\""
   ]
  },
  {
   "cell_type": "code",
   "execution_count": null,
   "id": "c75b822b",
   "metadata": {},
   "outputs": [],
   "source": [
    "# add codes to print all strings here\n"
   ]
  },
  {
   "cell_type": "markdown",
   "id": "01195e5a",
   "metadata": {},
   "source": [
    "### Strings built-in functions\n",
    "\n",
    "- split()\n",
    "- len()\n",
    "- join()\n",
    "- strip(), lstrip(), rstrip()\n",
    "- find(), lfind(), rfind()\n",
    "- startswith(), endswith()"
   ]
  },
  {
   "cell_type": "code",
   "execution_count": null,
   "id": "61202ed5",
   "metadata": {},
   "outputs": [],
   "source": [
    "text = \"The cat in the hat\"\n",
    "print(text)"
   ]
  },
  {
   "cell_type": "code",
   "execution_count": null,
   "id": "53bff622",
   "metadata": {},
   "outputs": [],
   "source": [
    "# by default, split() use whitespace as delimiter\n",
    "items = text.split()\n",
    "\n",
    "# display items\n",
    "print(items)"
   ]
  },
  {
   "cell_type": "code",
   "execution_count": null,
   "id": "d11a3154",
   "metadata": {},
   "outputs": [],
   "source": [
    "# count the number of items\n",
    "size = len(items)\n",
    "\n",
    "# display size\n"
   ]
  },
  {
   "cell_type": "code",
   "execution_count": null,
   "id": "f310c0d5",
   "metadata": {},
   "outputs": [],
   "source": [
    "# join words using '-' character\n",
    "result = '-'.join(items)\n",
    "\n",
    "# display result\n"
   ]
  },
  {
   "cell_type": "code",
   "execution_count": null,
   "id": "cc45aba6",
   "metadata": {},
   "outputs": [],
   "source": [
    "# join words using '::' character\n",
    "result = '::'.join(items)\n",
    "\n",
    "# display result\n"
   ]
  },
  {
   "cell_type": "code",
   "execution_count": null,
   "id": "1ff0ad18",
   "metadata": {},
   "outputs": [],
   "source": [
    "# string contains special characters (\\t \\n)\n",
    "text = \"You\\t\\t can have tabs\\t\\n \\t and newlines \\n\\n mixed in\"\n",
    "\n",
    "print(text)"
   ]
  },
  {
   "cell_type": "code",
   "execution_count": null,
   "id": "92f91d46",
   "metadata": {},
   "outputs": [],
   "source": [
    "# perform split and review the output\n",
    "items = text.split()\n",
    "\n",
    "# display items"
   ]
  },
  {
   "cell_type": "code",
   "execution_count": null,
   "id": "40c67688",
   "metadata": {},
   "outputs": [],
   "source": [
    "# another one\n",
    "text = \"Mississippi\"\n",
    "print(text.split('ss'))"
   ]
  },
  {
   "cell_type": "code",
   "execution_count": null,
   "id": "b70f2b31",
   "metadata": {},
   "outputs": [],
   "source": [
    "# strip operations - uncomment to run codes\n",
    "text = \"    The cat in the hat    \"\n",
    "\n",
    "# print(\"+\", text, \"+\")\n",
    "# print(\"+\", text.strip(), \"+\")\n",
    "# print(\"+\", text.lstrip(), \"+\")\n",
    "# print(\"+\", text.rstrip(), \"+\")"
   ]
  },
  {
   "cell_type": "code",
   "execution_count": null,
   "id": "ef8ae345",
   "metadata": {},
   "outputs": [],
   "source": [
    "# find operations - uncomment to run codes\n",
    "x = \"Mississippi\"\n",
    "\n",
    "# print(x.find('ss'))\n",
    "# print(x.find('zz'))\n",
    "# print(x.find('ss', 3))\n",
    "# print(x.find('ss', 0, 3))\n",
    "# print(x.rfind('ss'))\n",
    "# print(x.count('ss'))\n",
    "# print(x.startswith('Miss'))\n",
    "# print(x.endswith('pi'))"
   ]
  },
  {
   "cell_type": "code",
   "execution_count": null,
   "id": "ee02d9da",
   "metadata": {},
   "outputs": [],
   "source": [
    "# startswith and endswith - uncomment to run codes\n",
    "url = \"www.iverson.com.my\"\n",
    "\n",
    "# print(url.startswith('www'))\n",
    "# print(url.endswith('com.my'))"
   ]
  },
  {
   "cell_type": "markdown",
   "id": "653fc4b3",
   "metadata": {},
   "source": [
    "### Regular expressions\n",
    "\n",
    "To use regular expressions (regex) in Python, first you need to import the re library module."
   ]
  },
  {
   "cell_type": "code",
   "execution_count": null,
   "id": "d430713b",
   "metadata": {},
   "outputs": [],
   "source": [
    "import re"
   ]
  },
  {
   "cell_type": "code",
   "execution_count": null,
   "id": "1d6fb621",
   "metadata": {},
   "outputs": [],
   "source": [
    "# define a pattern\n",
    "pattern = re.compile(\"hello\")\n",
    "# pattern = re.compile(\"hello|Hello\")\n",
    "# pattern = re.compile(\"(h|H)ello\")\n",
    "# pattern = re.compile(\"[Hh]ello\")\n",
    "# pattern = re.compile(\"he..o\")\n",
    "# pattern = re.compile(\"hel?o\")   # 0 or 1 'l'\n",
    "# pattern = re.compile(\"hel+o\")   # 1 or more 'l'\n",
    "# pattern = re.compile(\"hel{2}o\") # exactly 2 'l'\n",
    "# pattern = re.compile(\"[hH]el{2}o\") # exactly 2 'l', start with 'h' or 'H'\n"
   ]
  },
  {
   "cell_type": "code",
   "execution_count": null,
   "id": "831fde39",
   "metadata": {},
   "outputs": [],
   "source": [
    "# define a counter\n",
    "counter = 0\n",
    "\n",
    "with open(\"myfile\") as file :\n",
    "    for line in file :\n",
    "        if pattern.search(line) :\n",
    "            counter += 1\n",
    "file.close()\n",
    "\n",
    "# display output\n",
    "print(\"{} of 'hello' found\".format(counter))"
   ]
  },
  {
   "cell_type": "code",
   "execution_count": null,
   "id": "2d2b0eaf",
   "metadata": {},
   "outputs": [],
   "source": [
    "# substitution\n",
    "\n",
    "text = \"If the the problem is textual, use the the re module\"\n",
    "\n",
    "# pattern - raw string\n",
    "pattern = re.compile(r\"the the\")\n",
    "\n",
    "print(\"Before: {}\".format(text))\n",
    "\n",
    "result = pattern.sub(\"the\", text)\n",
    "\n",
    "print(\"After: {}\".format(result))"
   ]
  },
  {
   "cell_type": "markdown",
   "id": "76ef10e0",
   "metadata": {},
   "source": [
    "**TRY THIS**\n",
    "\n",
    "Extract valid phone number eg. (555)-231-3913\n",
    "\n",
    "**EXTRA**\n",
    "\n",
    "Extract phone numbers that match this pattern: (820) 951 3885"
   ]
  },
  {
   "cell_type": "code",
   "execution_count": null,
   "id": "9eb54f16",
   "metadata": {},
   "outputs": [],
   "source": [
    "import re, os\n",
    "\n",
    "# prepare the pattern\n",
    "pattern = re.compile(\"^\\(\\d{3}\\)\\-\\d{3}\\-\\d{4}$\")\n",
    "\n",
    "count = 0\n",
    "\n",
    "with open(os.path.join(os.curdir, 'data', 'phone.txt'), 'r') as file :\n",
    "    for line in file :\n",
    "        # check against the pattern\n",
    "        if pattern.search(line) : \n",
    "            print(line.strip())\n",
    "            count += 1\n",
    "    print(\"{} records found\".format(count))\n",
    "file.close()"
   ]
  },
  {
   "cell_type": "markdown",
   "id": "aaec19de",
   "metadata": {},
   "source": [
    "**OPTIONAL**\n",
    "\n",
    "Create pattern to normalize phone number eg. (104)-363 5239\n",
    "\n"
   ]
  }
 ],
 "metadata": {
  "kernelspec": {
   "display_name": "Python 3 (ipykernel)",
   "language": "python",
   "name": "python3"
  },
  "language_info": {
   "codemirror_mode": {
    "name": "ipython",
    "version": 3
   },
   "file_extension": ".py",
   "mimetype": "text/x-python",
   "name": "python",
   "nbconvert_exporter": "python",
   "pygments_lexer": "ipython3",
   "version": "3.9.7"
  }
 },
 "nbformat": 4,
 "nbformat_minor": 5
}
